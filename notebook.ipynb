{
 "cells": [
  {
   "cell_type": "markdown",
   "metadata": {},
   "source": [
    "# Dataset Column Descriptions\n",
    "\n",
    "## Description\n",
    "This dataset contains information about individuals, including demographic, socioeconomic, and employment-related attributes.\n",
    "\n",
    "## Column Names and Descriptions\n",
    "\n",
    "1. **age**: Represents the age of the individual.\n",
    "2. **workclass**: Indicates the type of employment or work class of the individual (e.g., Private, Self-emp-inc, Local-gov).\n",
    "3. **fnlwgt**: Stands for final weight. It is a sampling weight assigned to each observation, often used in survey sampling methods.\n",
    "4. **education**: Represents the highest level of education achieved by the individual.\n",
    "5. **educational-num**: Represents the numerical encoding of the education level.\n",
    "6. **marital-status**: Indicates the marital status of the individual (e.g., Never-married, Married-civ-spouse, Widowed).\n",
    "7. **occupation**: Describes the occupation or job role of the individual.\n",
    "8. **relationship**: Indicates the individual's role in the family relationship (e.g., Own-child, Husband, Wife).\n",
    "9. **race**: Represents the race of the individual (e.g., White, Black, Asian-Pac-Islander).\n",
    "10. **gender**: Specifies the gender of the individual (e.g., Male, Female).\n",
    "11. **capital-gain**: Refers to the capital gains made by the individual.\n",
    "12. **capital-loss**: Refers to the capital losses experienced by the individual.\n",
    "13. **hours-per-week**: Represents the number of hours worked per week by the individual.\n",
    "14. **native-country**: Indicates the country of origin or nationality of the individual.\n",
    "15. **income**: Represents the income level of the individual, often used as the target variable for classification tasks (e.g., <=50K, >50K).\n",
    "\n",
    "These columns provide various demographic, socioeconomic, and employment-related information about the individuals in the dataset, which can be useful for various analytical purposes such as demographic profiling, income prediction, and understanding societal trends.\n"
   ]
  },
  {
   "cell_type": "code",
   "execution_count": 31,
   "metadata": {},
   "outputs": [],
   "source": [
    "import pandas as pd\n",
    "import numpy as np\n",
    "\n",
    "import matplotlib.pyplot as plt\n",
    "import seaborn as sns\n",
    "\n",
    "from scipy import stats"
   ]
  },
  {
   "cell_type": "code",
   "execution_count": 32,
   "metadata": {},
   "outputs": [],
   "source": [
    "df = pd.read_csv(r\"dataset\\adult.csv\")"
   ]
  },
  {
   "cell_type": "code",
   "execution_count": 33,
   "metadata": {},
   "outputs": [
    {
     "data": {
      "text/html": [
       "<div>\n",
       "<style scoped>\n",
       "    .dataframe tbody tr th:only-of-type {\n",
       "        vertical-align: middle;\n",
       "    }\n",
       "\n",
       "    .dataframe tbody tr th {\n",
       "        vertical-align: top;\n",
       "    }\n",
       "\n",
       "    .dataframe thead th {\n",
       "        text-align: right;\n",
       "    }\n",
       "</style>\n",
       "<table border=\"1\" class=\"dataframe\">\n",
       "  <thead>\n",
       "    <tr style=\"text-align: right;\">\n",
       "      <th></th>\n",
       "      <th>age</th>\n",
       "      <th>workclass</th>\n",
       "      <th>fnlwgt</th>\n",
       "      <th>education</th>\n",
       "      <th>educational-num</th>\n",
       "      <th>marital-status</th>\n",
       "      <th>occupation</th>\n",
       "      <th>relationship</th>\n",
       "      <th>race</th>\n",
       "      <th>gender</th>\n",
       "      <th>capital-gain</th>\n",
       "      <th>capital-loss</th>\n",
       "      <th>hours-per-week</th>\n",
       "      <th>native-country</th>\n",
       "      <th>income</th>\n",
       "    </tr>\n",
       "  </thead>\n",
       "  <tbody>\n",
       "    <tr>\n",
       "      <th>0</th>\n",
       "      <td>25</td>\n",
       "      <td>Private</td>\n",
       "      <td>226802</td>\n",
       "      <td>11th</td>\n",
       "      <td>7</td>\n",
       "      <td>Never-married</td>\n",
       "      <td>Machine-op-inspct</td>\n",
       "      <td>Own-child</td>\n",
       "      <td>Black</td>\n",
       "      <td>Male</td>\n",
       "      <td>0</td>\n",
       "      <td>0</td>\n",
       "      <td>40</td>\n",
       "      <td>United-States</td>\n",
       "      <td>&lt;=50K</td>\n",
       "    </tr>\n",
       "    <tr>\n",
       "      <th>1</th>\n",
       "      <td>38</td>\n",
       "      <td>Private</td>\n",
       "      <td>89814</td>\n",
       "      <td>HS-grad</td>\n",
       "      <td>9</td>\n",
       "      <td>Married-civ-spouse</td>\n",
       "      <td>Farming-fishing</td>\n",
       "      <td>Husband</td>\n",
       "      <td>White</td>\n",
       "      <td>Male</td>\n",
       "      <td>0</td>\n",
       "      <td>0</td>\n",
       "      <td>50</td>\n",
       "      <td>United-States</td>\n",
       "      <td>&lt;=50K</td>\n",
       "    </tr>\n",
       "    <tr>\n",
       "      <th>2</th>\n",
       "      <td>28</td>\n",
       "      <td>Local-gov</td>\n",
       "      <td>336951</td>\n",
       "      <td>Assoc-acdm</td>\n",
       "      <td>12</td>\n",
       "      <td>Married-civ-spouse</td>\n",
       "      <td>Protective-serv</td>\n",
       "      <td>Husband</td>\n",
       "      <td>White</td>\n",
       "      <td>Male</td>\n",
       "      <td>0</td>\n",
       "      <td>0</td>\n",
       "      <td>40</td>\n",
       "      <td>United-States</td>\n",
       "      <td>&gt;50K</td>\n",
       "    </tr>\n",
       "    <tr>\n",
       "      <th>3</th>\n",
       "      <td>44</td>\n",
       "      <td>Private</td>\n",
       "      <td>160323</td>\n",
       "      <td>Some-college</td>\n",
       "      <td>10</td>\n",
       "      <td>Married-civ-spouse</td>\n",
       "      <td>Machine-op-inspct</td>\n",
       "      <td>Husband</td>\n",
       "      <td>Black</td>\n",
       "      <td>Male</td>\n",
       "      <td>7688</td>\n",
       "      <td>0</td>\n",
       "      <td>40</td>\n",
       "      <td>United-States</td>\n",
       "      <td>&gt;50K</td>\n",
       "    </tr>\n",
       "    <tr>\n",
       "      <th>4</th>\n",
       "      <td>18</td>\n",
       "      <td>?</td>\n",
       "      <td>103497</td>\n",
       "      <td>Some-college</td>\n",
       "      <td>10</td>\n",
       "      <td>Never-married</td>\n",
       "      <td>?</td>\n",
       "      <td>Own-child</td>\n",
       "      <td>White</td>\n",
       "      <td>Female</td>\n",
       "      <td>0</td>\n",
       "      <td>0</td>\n",
       "      <td>30</td>\n",
       "      <td>United-States</td>\n",
       "      <td>&lt;=50K</td>\n",
       "    </tr>\n",
       "    <tr>\n",
       "      <th>...</th>\n",
       "      <td>...</td>\n",
       "      <td>...</td>\n",
       "      <td>...</td>\n",
       "      <td>...</td>\n",
       "      <td>...</td>\n",
       "      <td>...</td>\n",
       "      <td>...</td>\n",
       "      <td>...</td>\n",
       "      <td>...</td>\n",
       "      <td>...</td>\n",
       "      <td>...</td>\n",
       "      <td>...</td>\n",
       "      <td>...</td>\n",
       "      <td>...</td>\n",
       "      <td>...</td>\n",
       "    </tr>\n",
       "    <tr>\n",
       "      <th>48837</th>\n",
       "      <td>27</td>\n",
       "      <td>Private</td>\n",
       "      <td>257302</td>\n",
       "      <td>Assoc-acdm</td>\n",
       "      <td>12</td>\n",
       "      <td>Married-civ-spouse</td>\n",
       "      <td>Tech-support</td>\n",
       "      <td>Wife</td>\n",
       "      <td>White</td>\n",
       "      <td>Female</td>\n",
       "      <td>0</td>\n",
       "      <td>0</td>\n",
       "      <td>38</td>\n",
       "      <td>United-States</td>\n",
       "      <td>&lt;=50K</td>\n",
       "    </tr>\n",
       "    <tr>\n",
       "      <th>48838</th>\n",
       "      <td>40</td>\n",
       "      <td>Private</td>\n",
       "      <td>154374</td>\n",
       "      <td>HS-grad</td>\n",
       "      <td>9</td>\n",
       "      <td>Married-civ-spouse</td>\n",
       "      <td>Machine-op-inspct</td>\n",
       "      <td>Husband</td>\n",
       "      <td>White</td>\n",
       "      <td>Male</td>\n",
       "      <td>0</td>\n",
       "      <td>0</td>\n",
       "      <td>40</td>\n",
       "      <td>United-States</td>\n",
       "      <td>&gt;50K</td>\n",
       "    </tr>\n",
       "    <tr>\n",
       "      <th>48839</th>\n",
       "      <td>58</td>\n",
       "      <td>Private</td>\n",
       "      <td>151910</td>\n",
       "      <td>HS-grad</td>\n",
       "      <td>9</td>\n",
       "      <td>Widowed</td>\n",
       "      <td>Adm-clerical</td>\n",
       "      <td>Unmarried</td>\n",
       "      <td>White</td>\n",
       "      <td>Female</td>\n",
       "      <td>0</td>\n",
       "      <td>0</td>\n",
       "      <td>40</td>\n",
       "      <td>United-States</td>\n",
       "      <td>&lt;=50K</td>\n",
       "    </tr>\n",
       "    <tr>\n",
       "      <th>48840</th>\n",
       "      <td>22</td>\n",
       "      <td>Private</td>\n",
       "      <td>201490</td>\n",
       "      <td>HS-grad</td>\n",
       "      <td>9</td>\n",
       "      <td>Never-married</td>\n",
       "      <td>Adm-clerical</td>\n",
       "      <td>Own-child</td>\n",
       "      <td>White</td>\n",
       "      <td>Male</td>\n",
       "      <td>0</td>\n",
       "      <td>0</td>\n",
       "      <td>20</td>\n",
       "      <td>United-States</td>\n",
       "      <td>&lt;=50K</td>\n",
       "    </tr>\n",
       "    <tr>\n",
       "      <th>48841</th>\n",
       "      <td>52</td>\n",
       "      <td>Self-emp-inc</td>\n",
       "      <td>287927</td>\n",
       "      <td>HS-grad</td>\n",
       "      <td>9</td>\n",
       "      <td>Married-civ-spouse</td>\n",
       "      <td>Exec-managerial</td>\n",
       "      <td>Wife</td>\n",
       "      <td>White</td>\n",
       "      <td>Female</td>\n",
       "      <td>15024</td>\n",
       "      <td>0</td>\n",
       "      <td>40</td>\n",
       "      <td>United-States</td>\n",
       "      <td>&gt;50K</td>\n",
       "    </tr>\n",
       "  </tbody>\n",
       "</table>\n",
       "<p>48842 rows × 15 columns</p>\n",
       "</div>"
      ],
      "text/plain": [
       "       age     workclass  fnlwgt     education  educational-num  \\\n",
       "0       25       Private  226802          11th                7   \n",
       "1       38       Private   89814       HS-grad                9   \n",
       "2       28     Local-gov  336951    Assoc-acdm               12   \n",
       "3       44       Private  160323  Some-college               10   \n",
       "4       18             ?  103497  Some-college               10   \n",
       "...    ...           ...     ...           ...              ...   \n",
       "48837   27       Private  257302    Assoc-acdm               12   \n",
       "48838   40       Private  154374       HS-grad                9   \n",
       "48839   58       Private  151910       HS-grad                9   \n",
       "48840   22       Private  201490       HS-grad                9   \n",
       "48841   52  Self-emp-inc  287927       HS-grad                9   \n",
       "\n",
       "           marital-status         occupation relationship   race  gender  \\\n",
       "0           Never-married  Machine-op-inspct    Own-child  Black    Male   \n",
       "1      Married-civ-spouse    Farming-fishing      Husband  White    Male   \n",
       "2      Married-civ-spouse    Protective-serv      Husband  White    Male   \n",
       "3      Married-civ-spouse  Machine-op-inspct      Husband  Black    Male   \n",
       "4           Never-married                  ?    Own-child  White  Female   \n",
       "...                   ...                ...          ...    ...     ...   \n",
       "48837  Married-civ-spouse       Tech-support         Wife  White  Female   \n",
       "48838  Married-civ-spouse  Machine-op-inspct      Husband  White    Male   \n",
       "48839             Widowed       Adm-clerical    Unmarried  White  Female   \n",
       "48840       Never-married       Adm-clerical    Own-child  White    Male   \n",
       "48841  Married-civ-spouse    Exec-managerial         Wife  White  Female   \n",
       "\n",
       "       capital-gain  capital-loss  hours-per-week native-country income  \n",
       "0                 0             0              40  United-States  <=50K  \n",
       "1                 0             0              50  United-States  <=50K  \n",
       "2                 0             0              40  United-States   >50K  \n",
       "3              7688             0              40  United-States   >50K  \n",
       "4                 0             0              30  United-States  <=50K  \n",
       "...             ...           ...             ...            ...    ...  \n",
       "48837             0             0              38  United-States  <=50K  \n",
       "48838             0             0              40  United-States   >50K  \n",
       "48839             0             0              40  United-States  <=50K  \n",
       "48840             0             0              20  United-States  <=50K  \n",
       "48841         15024             0              40  United-States   >50K  \n",
       "\n",
       "[48842 rows x 15 columns]"
      ]
     },
     "execution_count": 33,
     "metadata": {},
     "output_type": "execute_result"
    }
   ],
   "source": [
    "df"
   ]
  },
  {
   "cell_type": "code",
   "execution_count": 34,
   "metadata": {},
   "outputs": [
    {
     "data": {
      "text/plain": [
       "Index(['age', 'workclass', 'fnlwgt', 'education', 'educational-num',\n",
       "       'marital-status', 'occupation', 'relationship', 'race', 'gender',\n",
       "       'capital-gain', 'capital-loss', 'hours-per-week', 'native-country',\n",
       "       'income'],\n",
       "      dtype='object')"
      ]
     },
     "execution_count": 34,
     "metadata": {},
     "output_type": "execute_result"
    }
   ],
   "source": [
    "df.columns"
   ]
  },
  {
   "cell_type": "code",
   "execution_count": 35,
   "metadata": {},
   "outputs": [
    {
     "data": {
      "text/plain": [
       "Index(['age', 'workclass', 'fnlwgt', 'education', 'educational_num',\n",
       "       'marital_status', 'occupation', 'relationship', 'race', 'gender',\n",
       "       'capital_gain', 'capital_loss', 'hours_per_week', 'native_country',\n",
       "       'income'],\n",
       "      dtype='object')"
      ]
     },
     "execution_count": 35,
     "metadata": {},
     "output_type": "execute_result"
    }
   ],
   "source": [
    "df.columns = df.columns.str.strip().str.replace('-', '_')\n",
    "\n",
    "df.columns"
   ]
  },
  {
   "cell_type": "code",
   "execution_count": 36,
   "metadata": {},
   "outputs": [
    {
     "name": "stdout",
     "output_type": "stream",
     "text": [
      "<class 'pandas.core.frame.DataFrame'>\n",
      "RangeIndex: 48842 entries, 0 to 48841\n",
      "Data columns (total 15 columns):\n",
      " #   Column           Non-Null Count  Dtype \n",
      "---  ------           --------------  ----- \n",
      " 0   age              48842 non-null  int64 \n",
      " 1   workclass        48842 non-null  object\n",
      " 2   fnlwgt           48842 non-null  int64 \n",
      " 3   education        48842 non-null  object\n",
      " 4   educational_num  48842 non-null  int64 \n",
      " 5   marital_status   48842 non-null  object\n",
      " 6   occupation       48842 non-null  object\n",
      " 7   relationship     48842 non-null  object\n",
      " 8   race             48842 non-null  object\n",
      " 9   gender           48842 non-null  object\n",
      " 10  capital_gain     48842 non-null  int64 \n",
      " 11  capital_loss     48842 non-null  int64 \n",
      " 12  hours_per_week   48842 non-null  int64 \n",
      " 13  native_country   48842 non-null  object\n",
      " 14  income           48842 non-null  object\n",
      "dtypes: int64(6), object(9)\n",
      "memory usage: 5.6+ MB\n"
     ]
    }
   ],
   "source": [
    "df.info()"
   ]
  },
  {
   "cell_type": "markdown",
   "metadata": {},
   "source": [
    "# Univariate Analysis - Discrete Data"
   ]
  },
  {
   "cell_type": "code",
   "execution_count": 37,
   "metadata": {},
   "outputs": [],
   "source": [
    "discreate_df = df.select_dtypes(include=['object'])\n",
    "\n",
    "numerical_df = df.select_dtypes(include=['int64', 'float64'])"
   ]
  },
  {
   "cell_type": "code",
   "execution_count": 38,
   "metadata": {},
   "outputs": [
    {
     "name": "stdout",
     "output_type": "stream",
     "text": [
      "Index(['workclass', 'education', 'marital_status', 'occupation',\n",
      "       'relationship', 'race', 'gender', 'native_country', 'income'],\n",
      "      dtype='object')\n",
      "Index(['age', 'fnlwgt', 'educational_num', 'capital_gain', 'capital_loss',\n",
      "       'hours_per_week'],\n",
      "      dtype='object')\n"
     ]
    }
   ],
   "source": [
    "print(discreate_df.columns)\n",
    "print(numerical_df.columns)"
   ]
  },
  {
   "cell_type": "code",
   "execution_count": 39,
   "metadata": {},
   "outputs": [],
   "source": [
    "def discrete_univariate_analysis(discrete_data, col_name):\n",
    "    print(\"*\"*10, col_name, \"*\"*10)\n",
    "    print(discrete_data[col_name].agg(['count', 'nunique', 'unique']))\n",
    "    print('Value Counts: \\n', discrete_data[col_name].value_counts())\n",
    "    print()"
   ]
  },
  {
   "cell_type": "code",
   "execution_count": 40,
   "metadata": {},
   "outputs": [],
   "source": [
    "def visulalize_plot(column_name):\n",
    "    \n",
    "    # Create a bar plot using matplotlib\n",
    "    plt.figure(figsize=(8, 6))\n",
    "    df[column_name].value_counts().plot(kind='bar', color='skyblue')\n",
    "    plt.title('Bar Plot of Color Counts')\n",
    "    plt.xlabel('Color')\n",
    "    plt.ylabel('Count')\n",
    "    plt.xticks(rotation=45)\n",
    "    plt.show()\n",
    "\n",
    "    # Create a count plot using seaborn\n",
    "    plt.figure(figsize=(8, 6))\n",
    "    sns.countplot(data=df, x=column_name, palette='pastel')\n",
    "    plt.title('Count Plot of Colors')\n",
    "    plt.xlabel('Color')\n",
    "    plt.ylabel('Count')\n",
    "    plt.xticks(rotation=45)\n",
    "    plt.show()"
   ]
  },
  {
   "cell_type": "code",
   "execution_count": 41,
   "metadata": {},
   "outputs": [
    {
     "name": "stdout",
     "output_type": "stream",
     "text": [
      "********** workclass **********\n",
      "count                                                  48842\n",
      "nunique                                                    9\n",
      "unique     [Private, Local-gov, ?, Self-emp-not-inc, Fede...\n",
      "Name: workclass, dtype: object\n",
      "Value Counts: \n",
      " workclass\n",
      "Private             33906\n",
      "Self-emp-not-inc     3862\n",
      "Local-gov            3136\n",
      "?                    2799\n",
      "State-gov            1981\n",
      "Self-emp-inc         1695\n",
      "Federal-gov          1432\n",
      "Without-pay            21\n",
      "Never-worked           10\n",
      "Name: count, dtype: int64\n",
      "\n"
     ]
    }
   ],
   "source": [
    "discrete_univariate_analysis(discreate_df,discreate_df.columns[0])"
   ]
  },
  {
   "cell_type": "code",
   "execution_count": 42,
   "metadata": {},
   "outputs": [
    {
     "data": {
      "image/png": "[encoded data removed]",
      "text/plain": [
       "<Figure size 800x600 with 1 Axes>"
      ]
     },
     "metadata": {},
     "output_type": "display_data"
    },
    {
     "data": {
      "image/png": "[encoded data removed]",
      "text/plain": [
       "<Figure size 800x600 with 1 Axes>"
      ]
     },
     "metadata": {},
     "output_type": "display_data"
    }
   ],
   "source": [
    "visulalize_plot('workclass')"
   ]
  },
  {
   "cell_type": "code",
   "execution_count": 43,
   "metadata": {},
   "outputs": [
    {
     "name": "stdout",
     "output_type": "stream",
     "text": [
      "********** education **********\n",
      "count                                                  48842\n",
      "nunique                                                   16\n",
      "unique     [11th, HS-grad, Assoc-acdm, Some-college, 10th...\n",
      "Name: education, dtype: object\n",
      "Value Counts: \n",
      " education\n",
      "HS-grad         15784\n",
      "Some-college    10878\n",
      "Bachelors        8025\n",
      "Masters          2657\n",
      "Assoc-voc        2061\n",
      "11th             1812\n",
      "Assoc-acdm       1601\n",
      "10th             1389\n",
      "7th-8th           955\n",
      "Prof-school       834\n",
      "9th               756\n",
      "12th              657\n",
      "Doctorate         594\n",
      "5th-6th           509\n",
      "1st-4th           247\n",
      "Preschool          83\n",
      "Name: count, dtype: int64\n",
      "\n"
     ]
    }
   ],
   "source": [
    "discrete_univariate_analysis(discreate_df,discreate_df.columns[1])"
   ]
  },
  {
   "cell_type": "code",
   "execution_count": 44,
   "metadata": {},
   "outputs": [
    {
     "name": "stdout",
     "output_type": "stream",
     "text": [
      "********** marital_status **********\n",
      "count                                                  48842\n",
      "nunique                                                    7\n",
      "unique     [Never-married, Married-civ-spouse, Widowed, D...\n",
      "Name: marital_status, dtype: object\n",
      "Value Counts: \n",
      " marital_status\n",
      "Married-civ-spouse       22379\n",
      "Never-married            16117\n",
      "Divorced                  6633\n",
      "Separated                 1530\n",
      "Widowed                   1518\n",
      "Married-spouse-absent      628\n",
      "Married-AF-spouse           37\n",
      "Name: count, dtype: int64\n",
      "\n"
     ]
    }
   ],
   "source": [
    "discrete_univariate_analysis(discreate_df,discreate_df.columns[2])"
   ]
  },
  {
   "cell_type": "code",
   "execution_count": 45,
   "metadata": {},
   "outputs": [
    {
     "name": "stdout",
     "output_type": "stream",
     "text": [
      "********** occupation **********\n",
      "count                                                  48842\n",
      "nunique                                                   15\n",
      "unique     [Machine-op-inspct, Farming-fishing, Protectiv...\n",
      "Name: occupation, dtype: object\n",
      "Value Counts: \n",
      " occupation\n",
      "Prof-specialty       6172\n",
      "Craft-repair         6112\n",
      "Exec-managerial      6086\n",
      "Adm-clerical         5611\n",
      "Sales                5504\n",
      "Other-service        4923\n",
      "Machine-op-inspct    3022\n",
      "?                    2809\n",
      "Transport-moving     2355\n",
      "Handlers-cleaners    2072\n",
      "Farming-fishing      1490\n",
      "Tech-support         1446\n",
      "Protective-serv       983\n",
      "Priv-house-serv       242\n",
      "Armed-Forces           15\n",
      "Name: count, dtype: int64\n",
      "\n"
     ]
    }
   ],
   "source": [
    "discrete_univariate_analysis(discreate_df,discreate_df.columns[3])"
   ]
  },
  {
   "cell_type": "code",
   "execution_count": 46,
   "metadata": {},
   "outputs": [
    {
     "name": "stdout",
     "output_type": "stream",
     "text": [
      "********** relationship **********\n",
      "count                                                  48842\n",
      "nunique                                                    6\n",
      "unique     [Own-child, Husband, Not-in-family, Unmarried,...\n",
      "Name: relationship, dtype: object\n",
      "Value Counts: \n",
      " relationship\n",
      "Husband           19716\n",
      "Not-in-family     12583\n",
      "Own-child          7581\n",
      "Unmarried          5125\n",
      "Wife               2331\n",
      "Other-relative     1506\n",
      "Name: count, dtype: int64\n",
      "\n"
     ]
    }
   ],
   "source": [
    "discrete_univariate_analysis(discreate_df,discreate_df.columns[4])"
   ]
  },
  {
   "cell_type": "code",
   "execution_count": 47,
   "metadata": {},
   "outputs": [
    {
     "name": "stdout",
     "output_type": "stream",
     "text": [
      "********** race **********\n",
      "count                                                  48842\n",
      "nunique                                                    5\n",
      "unique     [Black, White, Asian-Pac-Islander, Other, Amer...\n",
      "Name: race, dtype: object\n",
      "Value Counts: \n",
      " race\n",
      "White                 41762\n",
      "Black                  4685\n",
      "Asian-Pac-Islander     1519\n",
      "Amer-Indian-Eskimo      470\n",
      "Other                   406\n",
      "Name: count, dtype: int64\n",
      "\n"
     ]
    }
   ],
   "source": [
    "discrete_univariate_analysis(discreate_df,discreate_df.columns[5])"
   ]
  },
  {
   "cell_type": "code",
   "execution_count": 48,
   "metadata": {},
   "outputs": [
    {
     "name": "stdout",
     "output_type": "stream",
     "text": [
      "********** gender **********\n",
      "count               48842\n",
      "nunique                 2\n",
      "unique     [Male, Female]\n",
      "Name: gender, dtype: object\n",
      "Value Counts: \n",
      " gender\n",
      "Male      32650\n",
      "Female    16192\n",
      "Name: count, dtype: int64\n",
      "\n"
     ]
    }
   ],
   "source": [
    "discrete_univariate_analysis(discreate_df,discreate_df.columns[6])"
   ]
  },
  {
   "cell_type": "code",
   "execution_count": 49,
   "metadata": {},
   "outputs": [
    {
     "name": "stdout",
     "output_type": "stream",
     "text": [
      "********** native_country **********\n",
      "count                                                  48842\n",
      "nunique                                                   42\n",
      "unique     [United-States, ?, Peru, Guatemala, Mexico, Do...\n",
      "Name: native_country, dtype: object\n",
      "Value Counts: \n",
      " native_country\n",
      "United-States                 43832\n",
      "Mexico                          951\n",
      "?                               857\n",
      "Philippines                     295\n",
      "Germany                         206\n",
      "Puerto-Rico                     184\n",
      "Canada                          182\n",
      "El-Salvador                     155\n",
      "India                           151\n",
      "Cuba                            138\n",
      "England                         127\n",
      "China                           122\n",
      "South                           115\n",
      "Jamaica                         106\n",
      "Italy                           105\n",
      "Dominican-Republic              103\n",
      "Japan                            92\n",
      "Guatemala                        88\n",
      "Poland                           87\n",
      "Vietnam                          86\n",
      "Columbia                         85\n",
      "Haiti                            75\n",
      "Portugal                         67\n",
      "Taiwan                           65\n",
      "Iran                             59\n",
      "Greece                           49\n",
      "Nicaragua                        49\n",
      "Peru                             46\n",
      "Ecuador                          45\n",
      "France                           38\n",
      "Ireland                          37\n",
      "Hong                             30\n",
      "Thailand                         30\n",
      "Cambodia                         28\n",
      "Trinadad&Tobago                  27\n",
      "Laos                             23\n",
      "Yugoslavia                       23\n",
      "Outlying-US(Guam-USVI-etc)       23\n",
      "Scotland                         21\n",
      "Honduras                         20\n",
      "Hungary                          19\n",
      "Holand-Netherlands                1\n",
      "Name: count, dtype: int64\n",
      "\n"
     ]
    }
   ],
   "source": [
    "discrete_univariate_analysis(discreate_df,discreate_df.columns[7])"
   ]
  },
  {
   "cell_type": "code",
   "execution_count": 50,
   "metadata": {},
   "outputs": [
    {
     "name": "stdout",
     "output_type": "stream",
     "text": [
      "********** income **********\n",
      "count              48842\n",
      "nunique                2\n",
      "unique     [<=50K, >50K]\n",
      "Name: income, dtype: object\n",
      "Value Counts: \n",
      " income\n",
      "<=50K    37155\n",
      ">50K     11687\n",
      "Name: count, dtype: int64\n",
      "\n"
     ]
    }
   ],
   "source": [
    "discrete_univariate_analysis(discreate_df,discreate_df.columns[8])"
   ]
  },
  {
   "cell_type": "markdown",
   "metadata": {},
   "source": [
    "# Chi-Square Goodness-of-Fit Test Example\n",
    "\n",
    "## Introduction\n",
    "\n",
    "In statistical analysis, the Chi-Square Goodness-of-Fit Test is used to determine whether observed categorical data matches some expected distribution or hypothesis. This test is commonly applied to assess whether the observed frequencies in a dataset differ significantly from the expected frequencies.\n",
    "\n",
    "In this example, we'll demonstrate how to perform a Chi-Square Goodness-of-Fit Test using Python's scipy library.\n",
    "\n",
    "## Example: Ice Cream Flavor Preferences\n",
    "\n",
    "Suppose we conducted a study on the preferences of people regarding their favorite ice cream flavors. We categorized the preferences into four flavors: Vanilla, Chocolate, Strawberry, and Mint Chip.\n",
    "\n",
    "### Observed Data\n",
    "\n",
    "We collected data from a sample of 200 individuals and observed the following preferences:\n",
    "\n",
    "- Vanilla: 60\n",
    "- Chocolate: 50\n",
    "- Strawberry: 40\n",
    "- Mint Chip: 50\n",
    "\n",
    "### Hypothesis\n",
    "\n",
    "We want to test whether the observed frequencies of ice cream flavor preferences match the expected frequencies based on a hypothesis that assumes all flavors are equally popular.\n",
    "\n",
    "### Expected Frequencies\n",
    "\n",
    "Under the null hypothesis that all flavors are equally popular, each flavor is expected to be preferred by 25% of the population.\n",
    "\n",
    "Expected frequencies:\n",
    "\n",
    "- Vanilla: 0.25×200 = 50\n",
    "- Chocolate: 0.25×200 = 50\n",
    "- Strawberry: 0.25×200 = 50\n",
    "- Mint Chip: 0.25×200 = 50\n",
    "Now, we can perform the Chi-Square Goodness-of-Fit Test to determine whether there is a significant difference between the observed and expected frequencies.\n",
    "\n",
    "### Performing the Test\n",
    "\n",
    "We'll use Python's scipy library to perform the Chi-Square Goodness-of-Fit Test.\n"
   ]
  },
  {
   "cell_type": "code",
   "execution_count": 51,
   "metadata": {},
   "outputs": [
    {
     "name": "stdout",
     "output_type": "stream",
     "text": [
      "Chi-Square Statistic: 4.0\n",
      "p-value: 0.26146412994911117\n"
     ]
    }
   ],
   "source": [
    "from scipy.stats import chisquare\n",
    "\n",
    "# Observed frequencies\n",
    "observed = [60, 50, 40, 50]\n",
    "\n",
    "# Expected frequencies\n",
    "expected = [50, 50, 50, 50]\n",
    "\n",
    "# Perform Chi-Square Goodness-of-Fit Test\n",
    "chi2_stat, p_val = chisquare(observed, f_exp=expected)\n",
    "\n",
    "print(\"Chi-Square Statistic:\", chi2_stat)\n",
    "print(\"p-value:\", p_val)"
   ]
  },
  {
   "cell_type": "markdown",
   "metadata": {},
   "source": [
    "Putting it together:\n",
    "\n",
    "The Chi-Square statistic (4.0) tells you how big the difference is between what you expected and what you observed.\n",
    "The p-value (0.2615) tells you whether this difference is likely to be real or just a fluke.\n",
    "\n",
    "In your case, since the p-value is higher than a commonly chosen significance level like 0.05, it suggests that the difference you observed might just be due to chance. So, you can't be confident that there's a real difference between what you expected and what you saw."
   ]
  },
  {
   "cell_type": "markdown",
   "metadata": {},
   "source": [
    "## Example: Mode of Transportation Preferences\n",
    "\n",
    "Suppose we conducted a survey on the preferred mode of transportation for commuters in a city. We categorized the preferences into four modes: Car, Bus, Train, and Bicycle.\n",
    "\n",
    "### Observed Data\n",
    "\n",
    "We collected data from a sample of commuters and observed the following preferences:\n",
    "\n",
    "- Car: 50\n",
    "- Bus: 50\n",
    "- Train: 50\n",
    "- Bicycle: 50\n",
    "\n",
    "### Hypothesis\n",
    "\n",
    "We hypothesize the following:\n",
    "\n",
    "- **Null Hypothesis (H0)**: The observed frequencies match the expected frequencies. In other words, each mode of transportation is equally popular among commuters.\n",
    "- **Alternative Hypothesis (H1)**: The observed frequencies do not match the expected frequencies. There is a significant difference in the popularity of different modes of transportation among commuters.\n",
    "\n",
    "### Expected Frequencies\n",
    "\n",
    "Under the null hypothesis, each mode of transportation is expected to be preferred by 25% of the commuters.\n",
    "\n",
    "Expected frequencies:\n",
    "\n",
    "- Car: 50\n",
    "- Bus: 50\n",
    "- Train: 50\n",
    "- Bicycle: 50\n",
    "\n",
    "### Performing the Test\n",
    "\n",
    "We'll use Python's scipy library to perform the Chi-Square Goodness-of-Fit Test."
   ]
  },
  {
   "cell_type": "code",
   "execution_count": 52,
   "metadata": {},
   "outputs": [
    {
     "name": "stdout",
     "output_type": "stream",
     "text": [
      "Chi-Square Statistic: 0.0\n",
      "p-value: 1.0\n"
     ]
    }
   ],
   "source": [
    "from scipy.stats import chisquare\n",
    "\n",
    "# Observed frequencies\n",
    "observed = [50, 50, 50, 50]\n",
    "\n",
    "# Expected frequencies\n",
    "expected = [50, 50, 50, 50]\n",
    "\n",
    "# Perform Chi-Square Goodness-of-Fit Test\n",
    "chi2_stat, p_val = chisquare(observed, f_exp=expected)\n",
    "\n",
    "print(\"Chi-Square Statistic:\", chi2_stat)\n",
    "print(\"p-value:\", p_val)"
   ]
  },
  {
   "cell_type": "code",
   "execution_count": 53,
   "metadata": {},
   "outputs": [
    {
     "name": "stdout",
     "output_type": "stream",
     "text": [
      "Chi-Square Statistic: 8.0\n",
      "p-value: 0.04601170568923136\n"
     ]
    }
   ],
   "source": [
    "from scipy.stats import chisquare\n",
    "\n",
    "# Observed frequencies\n",
    "observed = [60, 40, 60, 40]\n",
    "\n",
    "# Expected frequencies\n",
    "expected = [50, 50, 50, 50]\n",
    "\n",
    "# Perform Chi-Square Goodness-of-Fit Test\n",
    "chi2_stat, p_val = chisquare(observed, f_exp=expected)\n",
    "\n",
    "print(\"Chi-Square Statistic:\", chi2_stat)\n",
    "print(\"p-value:\", p_val)"
   ]
  },
  {
   "cell_type": "markdown",
   "metadata": {},
   "source": [
    "Certainly, let's simplify it:\n",
    "\n",
    "* **Chi-Square Statistic**: The Chi-Square Statistic measures how much the observed frequencies deviate from the expected frequencies. A value of 0.0 means there is no deviation at all, indicating that the observed and expected frequencies match perfectly.\n",
    "\n",
    "* **p-value**: The p-value tells us whether this perfect match between observed and expected frequencies could have happened by chance. A p-value of 1.0 means there's a 100% chance that the observed match occurred by random chance alone.\n",
    "\n",
    "In summary, both the Chi-Square Statistic and the p-value indicate that there's no difference between the observed and expected frequencies. This supports the null hypothesis that all modes of transportation are equally popular among commuters."
   ]
  },
  {
   "cell_type": "markdown",
   "metadata": {},
   "source": [
    "**Chi-Square Statistic**: Imagine you have a bunch of categories, like different types of fruit (apples, oranges, bananas, etc.), and you're comparing how many times each type appears in a dataset. The Chi-Square Statistic helps you figure out if the actual numbers you see (observed frequencies) are really different from what you'd expect to see just by chance (expected frequencies). *If the observed and expected numbers are exactly the same, the Chi-Square value is 0.0, meaning there's no difference between what you see and what you'd expect*.\n",
    "\n",
    "**p-value**: Now, let's say you calculated the *Chi-Square value and found it's not 0.0, which means there's some difference between observed and expected frequencies.* The p-value tells you if this difference is significant or just due to random chance. A p-value of 1.0 means there's a 100% chance that the difference you observed happened by random chance alone, so it's not significant. On the other hand, a very small p-value, like 0.05 or less, means the difference is unlikely to be due to chance and is probably real."
   ]
  },
  {
   "cell_type": "markdown",
   "metadata": {},
   "source": [
    "#### Example 3: use dataset `Gender's` columns"
   ]
  },
  {
   "cell_type": "code",
   "execution_count": 54,
   "metadata": {},
   "outputs": [],
   "source": [
    "def chi_square_good_fit(observed_frequencies, expected_frequencies, significance_level):\n",
    "    stat, p_value = stats.chisquare(observed_frequencies, expected_frequencies)\n",
    "    \n",
    "    print('stat=%.3f, p_value=%.3f' % (stat, p_value))\n",
    "    \n",
    "    if p_value < significance_level:\n",
    "        print('Reject null hypothesis (H0): The observed frequencies do not match the expected frequencies.')\n",
    "    else:\n",
    "        print('Fail to Reject null hypothesis (H0): The observed frequencies match the expected frequencies.')"
   ]
  },
  {
   "cell_type": "code",
   "execution_count": 55,
   "metadata": {},
   "outputs": [
    {
     "name": "stdout",
     "output_type": "stream",
     "text": [
      "48842\n"
     ]
    },
    {
     "data": {
      "text/plain": [
       "gender\n",
       "Male      32650\n",
       "Female    16192\n",
       "Name: count, dtype: int64"
      ]
     },
     "execution_count": 55,
     "metadata": {},
     "output_type": "execute_result"
    }
   ],
   "source": [
    "print(df['gender'].value_counts().sum())\n",
    "df['gender'].value_counts()"
   ]
  },
  {
   "cell_type": "code",
   "execution_count": 56,
   "metadata": {},
   "outputs": [
    {
     "name": "stdout",
     "output_type": "stream",
     "text": [
      "24421 24421\n",
      "stat=5545.755, p_value=0.000\n",
      "Reject null hypothesis (H0): The observed frequencies do not match the expected frequencies.\n"
     ]
    }
   ],
   "source": [
    "sample = df['gender']\n",
    "total = sample.value_counts().sum()\n",
    "print(total//2, total//2)\n",
    "\n",
    "observed_freq = sample.value_counts().tolist()\n",
    "expected_freq = [total//2, total//2]\n",
    "\n",
    "chi_square_good_fit(observed_freq, expected_freq, significance_level=0.05)"
   ]
  },
  {
   "cell_type": "markdown",
   "metadata": {},
   "source": [
    "## Univariate Analysis - Numerical Data"
   ]
  },
  {
   "cell_type": "code",
   "execution_count": 57,
   "metadata": {},
   "outputs": [],
   "source": [
    "def numerical_univariate_analysis(numerical_data):\n",
    "    for col_name in numerical_data:\n",
    "        print(\"*\"*10, col_name, \"*\"*10)\n",
    "        print(numerical_data[col_name].agg(['min', 'max', 'mean', 'median', 'std']))\n",
    "        print()"
   ]
  },
  {
   "cell_type": "code",
   "execution_count": 58,
   "metadata": {},
   "outputs": [
    {
     "name": "stdout",
     "output_type": "stream",
     "text": [
      "********** age **********\n",
      "min       17.000000\n",
      "max       90.000000\n",
      "mean      38.643585\n",
      "median    37.000000\n",
      "std       13.710510\n",
      "Name: age, dtype: float64\n",
      "\n",
      "********** fnlwgt **********\n",
      "min       1.228500e+04\n",
      "max       1.490400e+06\n",
      "mean      1.896641e+05\n",
      "median    1.781445e+05\n",
      "std       1.056040e+05\n",
      "Name: fnlwgt, dtype: float64\n",
      "\n",
      "********** educational_num **********\n",
      "min        1.000000\n",
      "max       16.000000\n",
      "mean      10.078089\n",
      "median    10.000000\n",
      "std        2.570973\n",
      "Name: educational_num, dtype: float64\n",
      "\n",
      "********** capital_gain **********\n",
      "min           0.000000\n",
      "max       99999.000000\n",
      "mean       1079.067626\n",
      "median        0.000000\n",
      "std        7452.019058\n",
      "Name: capital_gain, dtype: float64\n",
      "\n",
      "********** capital_loss **********\n",
      "min          0.000000\n",
      "max       4356.000000\n",
      "mean        87.502314\n",
      "median       0.000000\n",
      "std        403.004552\n",
      "Name: capital_loss, dtype: float64\n",
      "\n",
      "********** hours_per_week **********\n",
      "min        1.000000\n",
      "max       99.000000\n",
      "mean      40.422382\n",
      "median    40.000000\n",
      "std       12.391444\n",
      "Name: hours_per_week, dtype: float64\n",
      "\n"
     ]
    }
   ],
   "source": [
    "numerical_univariate_analysis(numerical_df)"
   ]
  },
  {
   "cell_type": "code",
   "execution_count": 1,
   "metadata": {},
   "outputs": [
    {
     "data": {
      "text/html": [
       "<div>\n",
       "<style scoped>\n",
       "    .dataframe tbody tr th:only-of-type {\n",
       "        vertical-align: middle;\n",
       "    }\n",
       "\n",
       "    .dataframe tbody tr th {\n",
       "        vertical-align: top;\n",
       "    }\n",
       "\n",
       "    .dataframe thead th {\n",
       "        text-align: right;\n",
       "    }\n",
       "</style>\n",
       "<table border=\"1\" class=\"dataframe\">\n",
       "  <thead>\n",
       "    <tr style=\"text-align: right;\">\n",
       "      <th></th>\n",
       "      <th>survived</th>\n",
       "      <th>pclass</th>\n",
       "      <th>sex</th>\n",
       "      <th>age</th>\n",
       "      <th>sibsp</th>\n",
       "      <th>parch</th>\n",
       "      <th>fare</th>\n",
       "      <th>embarked</th>\n",
       "      <th>class</th>\n",
       "      <th>who</th>\n",
       "      <th>adult_male</th>\n",
       "      <th>deck</th>\n",
       "      <th>embark_town</th>\n",
       "      <th>alive</th>\n",
       "      <th>alone</th>\n",
       "    </tr>\n",
       "  </thead>\n",
       "  <tbody>\n",
       "    <tr>\n",
       "      <th>0</th>\n",
       "      <td>0</td>\n",
       "      <td>3</td>\n",
       "      <td>male</td>\n",
       "      <td>22.0</td>\n",
       "      <td>1</td>\n",
       "      <td>0</td>\n",
       "      <td>7.2500</td>\n",
       "      <td>S</td>\n",
       "      <td>Third</td>\n",
       "      <td>man</td>\n",
       "      <td>True</td>\n",
       "      <td>NaN</td>\n",
       "      <td>Southampton</td>\n",
       "      <td>no</td>\n",
       "      <td>False</td>\n",
       "    </tr>\n",
       "    <tr>\n",
       "      <th>1</th>\n",
       "      <td>1</td>\n",
       "      <td>1</td>\n",
       "      <td>female</td>\n",
       "      <td>38.0</td>\n",
       "      <td>1</td>\n",
       "      <td>0</td>\n",
       "      <td>71.2833</td>\n",
       "      <td>C</td>\n",
       "      <td>First</td>\n",
       "      <td>woman</td>\n",
       "      <td>False</td>\n",
       "      <td>C</td>\n",
       "      <td>Cherbourg</td>\n",
       "      <td>yes</td>\n",
       "      <td>False</td>\n",
       "    </tr>\n",
       "    <tr>\n",
       "      <th>2</th>\n",
       "      <td>1</td>\n",
       "      <td>3</td>\n",
       "      <td>female</td>\n",
       "      <td>26.0</td>\n",
       "      <td>0</td>\n",
       "      <td>0</td>\n",
       "      <td>7.9250</td>\n",
       "      <td>S</td>\n",
       "      <td>Third</td>\n",
       "      <td>woman</td>\n",
       "      <td>False</td>\n",
       "      <td>NaN</td>\n",
       "      <td>Southampton</td>\n",
       "      <td>yes</td>\n",
       "      <td>True</td>\n",
       "    </tr>\n",
       "    <tr>\n",
       "      <th>3</th>\n",
       "      <td>1</td>\n",
       "      <td>1</td>\n",
       "      <td>female</td>\n",
       "      <td>35.0</td>\n",
       "      <td>1</td>\n",
       "      <td>0</td>\n",
       "      <td>53.1000</td>\n",
       "      <td>S</td>\n",
       "      <td>First</td>\n",
       "      <td>woman</td>\n",
       "      <td>False</td>\n",
       "      <td>C</td>\n",
       "      <td>Southampton</td>\n",
       "      <td>yes</td>\n",
       "      <td>False</td>\n",
       "    </tr>\n",
       "    <tr>\n",
       "      <th>4</th>\n",
       "      <td>0</td>\n",
       "      <td>3</td>\n",
       "      <td>male</td>\n",
       "      <td>35.0</td>\n",
       "      <td>0</td>\n",
       "      <td>0</td>\n",
       "      <td>8.0500</td>\n",
       "      <td>S</td>\n",
       "      <td>Third</td>\n",
       "      <td>man</td>\n",
       "      <td>True</td>\n",
       "      <td>NaN</td>\n",
       "      <td>Southampton</td>\n",
       "      <td>no</td>\n",
       "      <td>True</td>\n",
       "    </tr>\n",
       "  </tbody>\n",
       "</table>\n",
       "</div>"
      ],
      "text/plain": [
       "   survived  pclass     sex   age  sibsp  parch     fare embarked  class  \\\n",
       "0         0       3    male  22.0      1      0   7.2500        S  Third   \n",
       "1         1       1  female  38.0      1      0  71.2833        C  First   \n",
       "2         1       3  female  26.0      0      0   7.9250        S  Third   \n",
       "3         1       1  female  35.0      1      0  53.1000        S  First   \n",
       "4         0       3    male  35.0      0      0   8.0500        S  Third   \n",
       "\n",
       "     who  adult_male deck  embark_town alive  alone  \n",
       "0    man        True  NaN  Southampton    no  False  \n",
       "1  woman       False    C    Cherbourg   yes  False  \n",
       "2  woman       False  NaN  Southampton   yes   True  \n",
       "3  woman       False    C  Southampton   yes  False  \n",
       "4    man        True  NaN  Southampton    no   True  "
      ]
     },
     "execution_count": 1,
     "metadata": {},
     "output_type": "execute_result"
    }
   ],
   "source": [
    "import seaborn as sns\n",
    "import pandas as pd\n",
    "import matplotlib.pyplot as plt\n",
    "\n",
    "# Load the Titanic dataset directly from seaborn\n",
    "titanic = sns.load_dataset('titanic')\n",
    "titanic.head()"
   ]
  },
  {
   "cell_type": "code",
   "execution_count": 2,
   "metadata": {},
   "outputs": [
    {
     "data": {
      "image/png": "[encoded data removed]",
      "text/plain": [
       "<Figure size 640x480 with 1 Axes>"
      ]
     },
     "metadata": {},
     "output_type": "display_data"
    }
   ],
   "source": [
    "import seaborn as sns\n",
    "import matplotlib.pyplot as plt\n",
    "\n",
    "# Create a count plot of the 'Survived' column\n",
    "sns.countplot(data=titanic, x='survived')\n",
    "\n",
    "# Add title and labels\n",
    "plt.title('Count Plot of Survival on the Titanic')\n",
    "plt.xlabel('Survived')\n",
    "plt.ylabel('Count')\n",
    "\n",
    "# Display the plot\n",
    "plt.show()"
   ]
  },
  {
   "cell_type": "code",
   "execution_count": 4,
   "metadata": {},
   "outputs": [
    {
     "data": {
      "text/plain": [
       "<Axes: xlabel='survived'>"
      ]
     },
     "execution_count": 4,
     "metadata": {},
     "output_type": "execute_result"
    },
    {
     "data": {
      "image/png": "[encoded data removed]",
      "text/plain": [
       "<Figure size 640x480 with 1 Axes>"
      ]
     },
     "metadata": {},
     "output_type": "display_data"
    }
   ],
   "source": [
    "titanic.survived.value_counts().plot(kind='bar')"
   ]
  },
  {
   "cell_type": "code",
   "execution_count": 11,
   "metadata": {},
   "outputs": [
    {
     "data": {
      "text/plain": [
       "<Axes: xlabel='pclass', ylabel='count'>"
      ]
     },
     "execution_count": 11,
     "metadata": {},
     "output_type": "execute_result"
    },
    {
     "data": {
      "image/png": "[encoded data removed]",
      "text/plain": [
       "<Figure size 640x480 with 1 Axes>"
      ]
     },
     "metadata": {},
     "output_type": "display_data"
    }
   ],
   "source": [
    "sns.countplot(data=titanic, x='pclass')\n",
    "#sns.countplot(titanic['pclass'])"
   ]
  },
  {
   "cell_type": "code",
   "execution_count": 15,
   "metadata": {},
   "outputs": [
    {
     "data": {
      "text/plain": [
       "<Axes: ylabel='count'>"
      ]
     },
     "execution_count": 15,
     "metadata": {},
     "output_type": "execute_result"
    },
    {
     "data": {
      "image/png": "[encoded data removed]",
      "text/plain": [
       "<Figure size 640x480 with 1 Axes>"
      ]
     },
     "metadata": {},
     "output_type": "display_data"
    }
   ],
   "source": [
    "titanic['embarked'].value_counts().plot(kind='pie', autopct='%.2f')"
   ]
  },
  {
   "cell_type": "code",
   "execution_count": 16,
   "metadata": {},
   "outputs": [
    {
     "data": {
      "text/plain": [
       "<Axes: ylabel='count'>"
      ]
     },
     "execution_count": 16,
     "metadata": {},
     "output_type": "execute_result"
    },
    {
     "data": {
      "image/png": "[encoded data removed]",
      "text/plain": [
       "<Figure size 640x480 with 1 Axes>"
      ]
     },
     "metadata": {},
     "output_type": "display_data"
    }
   ],
   "source": [
    "titanic['pclass'].value_counts().plot(kind='pie', autopct='%.2f')"
   ]
  },
  {
   "cell_type": "code",
   "execution_count": 17,
   "metadata": {},
   "outputs": [
    {
     "data": {
      "image/png": "[encoded data removed]",
      "text/plain": [
       "<Figure size 800x500 with 1 Axes>"
      ]
     },
     "metadata": {},
     "output_type": "display_data"
    }
   ],
   "source": [
    "import seaborn as sns\n",
    "import pandas as pd\n",
    "import matplotlib.pyplot as plt\n",
    "\n",
    "# Load the Titanic dataset\n",
    "titanic = sns.load_dataset('titanic')\n",
    "\n",
    "# Create a dot plot for the 'Survived' column\n",
    "survival_counts = titanic['survived'].value_counts().sort_index()\n",
    "categories = ['Did Not Survive', 'Survived']\n",
    "\n",
    "plt.figure(figsize=(8, 5))\n",
    "plt.plot(categories, survival_counts, 'o', markersize=10, linestyle='None')\n",
    "\n",
    "# Add title and labels\n",
    "plt.title('Dot Plot of Survival on the Titanic')\n",
    "plt.xlabel('Survived')\n",
    "plt.ylabel('Count')\n",
    "\n",
    "# Show plot\n",
    "plt.show()\n"
   ]
  },
  {
   "cell_type": "code",
   "execution_count": 18,
   "metadata": {},
   "outputs": [
    {
     "name": "stdout",
     "output_type": "stream",
     "text": [
      "   Survived  Count\n",
      "0         0    549\n",
      "1         1    342\n"
     ]
    }
   ],
   "source": [
    "import seaborn as sns\n",
    "import pandas as pd\n",
    "\n",
    "# Load the Titanic dataset\n",
    "titanic = sns.load_dataset('titanic')\n",
    "\n",
    "# Create a frequency table for the 'Survived' column\n",
    "frequency_table = titanic['survived'].value_counts().reset_index()\n",
    "frequency_table.columns = ['Survived', 'Count']\n",
    "\n",
    "print(frequency_table)\n"
   ]
  },
  {
   "cell_type": "code",
   "execution_count": 19,
   "metadata": {},
   "outputs": [
    {
     "name": "stdout",
     "output_type": "stream",
     "text": [
      "Count: 891\n",
      "Nunique: 3\n",
      "Unique: [3 1 2]\n",
      "Mode: 3\n",
      "Value_counts:\n",
      "pclass\n",
      "3    491\n",
      "1    216\n",
      "2    184\n",
      "Name: count, dtype: int64\n"
     ]
    }
   ],
   "source": [
    "import seaborn as sns\n",
    "import pandas as pd\n",
    "\n",
    "# Load the Titanic dataset\n",
    "titanic = sns.load_dataset('titanic')\n",
    "\n",
    "# Select the 'pclass' column\n",
    "pclass_data = titanic['pclass']\n",
    "\n",
    "# 3. Count: The number of non-null observations\n",
    "count = pclass_data.count()\n",
    "\n",
    "# 4. Nunique: The number of unique values\n",
    "nunique = pclass_data.nunique()\n",
    "\n",
    "# 5. Unique: The unique values\n",
    "unique = pclass_data.unique()\n",
    "\n",
    "# 6. Mode: The most frequent value\n",
    "mode = pclass_data.mode()[0]\n",
    "\n",
    "# 7. Value_counts: The frequency of each unique value\n",
    "value_counts = pclass_data.value_counts()\n",
    "\n",
    "# Print the results\n",
    "print(f\"Count: {count}\")\n",
    "print(f\"Nunique: {nunique}\")\n",
    "print(f\"Unique: {unique}\")\n",
    "print(f\"Mode: {mode}\")\n",
    "print(f\"Value_counts:\\n{value_counts}\")\n"
   ]
  },
  {
   "cell_type": "code",
   "execution_count": 20,
   "metadata": {},
   "outputs": [
    {
     "data": {
      "text/plain": [
       "(891, 15)"
      ]
     },
     "execution_count": 20,
     "metadata": {},
     "output_type": "execute_result"
    }
   ],
   "source": [
    "titanic.shape"
   ]
  },
  {
   "cell_type": "code",
   "execution_count": 21,
   "metadata": {},
   "outputs": [
    {
     "name": "stdout",
     "output_type": "stream",
     "text": [
      "Chi-Square Statistic: 4.861111111111112\n",
      "P-value: 0.18225438819712722\n"
     ]
    }
   ],
   "source": [
    "import scipy.stats as stats\n",
    "\n",
    "# Observed frequencies of blood types\n",
    "observed = [110, 85, 65, 40]\n",
    "\n",
    "# Expected frequencies based on the population distribution\n",
    "expected = [0.4 * sum(observed), 0.3 * sum(observed), 0.2 * sum(observed), 0.1 * sum(observed)]\n",
    "\n",
    "# Perform Chi-Square Test\n",
    "chi2, p = stats.chisquare(observed, expected)\n",
    "\n",
    "print(f\"Chi-Square Statistic: {chi2}\")\n",
    "print(f\"P-value: {p}\")"
   ]
  },
  {
   "cell_type": "code",
   "execution_count": 23,
   "metadata": {},
   "outputs": [
    {
     "name": "stdout",
     "output_type": "stream",
     "text": [
      "Chi-Square Statistic: 191.8047138047138\n",
      "P-value: 2.2394202231028854e-42\n"
     ]
    }
   ],
   "source": [
    "import pandas as pd\n",
    "from scipy.stats import chisquare\n",
    "\n",
    "\n",
    "# Observed frequencies of 'pclass'\n",
    "observed = titanic['pclass'].value_counts().sort_index()\n",
    "\n",
    "# Expected frequencies (assuming equal distribution)\n",
    "expected = [len(titanic) / 3] * 3\n",
    "\n",
    "# Perform Chi-Square Test\n",
    "chi2, p_value = chisquare(observed, expected)\n",
    "\n",
    "print(f\"Chi-Square Statistic: {chi2}\")\n",
    "print(f\"P-value: {p_value}\")"
   ]
  },
  {
   "cell_type": "code",
   "execution_count": 24,
   "metadata": {},
   "outputs": [
    {
     "name": "stdout",
     "output_type": "stream",
     "text": [
      "Chi-Square Statistic: 4.861111111111112\n",
      "P-value: 0.18225438819712722\n"
     ]
    }
   ],
   "source": [
    "import scipy.stats as stats\n",
    "\n",
    "# Observed frequencies of blood types\n",
    "observed = [110, 85, 65, 40]\n",
    "\n",
    "# Expected frequencies based on the population distribution\n",
    "expected = [0.4 * sum(observed), 0.3 * sum(observed), 0.2 * sum(observed), 0.1 * sum(observed)]\n",
    "\n",
    "# Perform Chi-Square Test\n",
    "chi2, p = stats.chisquare(observed, expected)\n",
    "\n",
    "print(f\"Chi-Square Statistic: {chi2}\")\n",
    "print(f\"P-value: {p}\")\n"
   ]
  },
  {
   "cell_type": "code",
   "execution_count": null,
   "metadata": {},
   "outputs": [],
   "source": []
  }
 ],
 "metadata": {
  "kernelspec": {
   "display_name": "base",
   "language": "python",
   "name": "python3"
  },
  "language_info": {
   "codemirror_mode": {
    "name": "ipython",
    "version": 3
   },
   "file_extension": ".py",
   "mimetype": "text/x-python",
   "name": "python",
   "nbconvert_exporter": "python",
   "pygments_lexer": "ipython3",
   "version": "3.11.5"
  }
 },
 "nbformat": 4,
 "nbformat_minor": 2
}
